{
 "cells": [
  {
   "cell_type": "markdown",
   "id": "a863c9dc",
   "metadata": {},
   "source": [
    "#  <font face=\"times\"><font size=\"6pt\"><p style = 'text-align: center;'> Installing bmplib and FFT Tutorial\n",
    "\n",
    "<font face=\"times\"><font size=\"3pt\"><p style = 'text-align: center;'> In this tutorial, learn how to install a new python package into your python environment, in particular, bmplib (the BMPL python library). Then using the spectral functions in this module, you'll learn how to do a Fast Fourier Transform."
   ]
  },
  {
   "cell_type": "markdown",
   "id": "e6543a15",
   "metadata": {},
   "source": [
    "### Installing a Python module from Github\n",
    "\n",
    "Open a python terminal. If you are using Juypter notebook through Binder, skip this next step (opening a terminal).\n",
    "\n",
    "If you are using Anaconda, go to your environment in Anaconda Navigator and open an IPython terminal. We want to install the bmplib package which can be found here: https://github.com/dschaffner/bmplib\n",
    "\n",
    "In your IPython terminal, input the following line:\n",
    "```Python\n",
    "pip install git+https://github.com/dschaffner/bmplib\n",
    "```\n",
    "If you are using Jupyter Notebook, just type in the line above into the first cell of the notebook.\n",
    "\n",
    "This will install the bmplib module as a library in your environment. Once this is finished installing you can close the terminal as we'll continue the tutorial in this notebook.\n",
    "\n",
    "You can now import bmplib:\n",
    "```Python\n",
    "import bmplib\n",
    "```\n",
    "Do this in the next cell. If it is not running properly, you may need to close the notebook and restart it."
   ]
  },
  {
   "cell_type": "code",
   "execution_count": null,
   "id": "f0341b76",
   "metadata": {},
   "outputs": [],
   "source": []
  },
  {
   "cell_type": "code",
   "execution_count": null,
   "id": "3e4cd665",
   "metadata": {},
   "outputs": [],
   "source": []
  },
  {
   "cell_type": "markdown",
   "id": "b3a5526c",
   "metadata": {},
   "source": [
    "### Using FFTs\n",
    "We'll now use the function \n",
    "```Python \n",
    "spectrum_wwind()\n",
    "```\n",
    "to explore Fast Fourier Transforms. An FFT is a method for decomposing a discrete array of data (usually temporal or spatial data) into the sum of sinusodal functions. Start by importing numpy with the alias np, and matplotlib.pylab as plt in a cell below."
   ]
  },
  {
   "cell_type": "code",
   "execution_count": null,
   "id": "2452e21f",
   "metadata": {},
   "outputs": [],
   "source": []
  },
  {
   "cell_type": "markdown",
   "id": "3495e031",
   "metadata": {},
   "source": [
    "Next, declare an array, x, with 10000 elements and scaled by a factor of 0.01:\n",
    "```Python\n",
    "x=np.arange(10000)*0.01\n",
    "```"
   ]
  },
  {
   "cell_type": "code",
   "execution_count": null,
   "id": "8c003b05",
   "metadata": {},
   "outputs": [],
   "source": []
  },
  {
   "cell_type": "markdown",
   "id": "503db940",
   "metadata": {},
   "source": [
    "Next, define some sine functions with a variety of angular frequencies, $\\omega$. For example, define $y_{1}$ with $\\omega = 1$ as:\n",
    "```Python\n",
    "y1=np.sin(1*x)\n",
    "```\n",
    "In the same cell, define similar functions $y_{2}$ (with $\\omega = 2$), $y_3$, $y_{10}$, and $y_{20}$."
   ]
  },
  {
   "cell_type": "code",
   "execution_count": 7,
   "id": "885064bf",
   "metadata": {},
   "outputs": [],
   "source": []
  },
  {
   "cell_type": "markdown",
   "id": "dd80de1c",
   "metadata": {},
   "source": [
    "Let's take a look at some of these functions. In the cell below, write out the following block of code:\n",
    "```Python\n",
    "plt.figure(1)\n",
    "plt.plot(x,y1)\n",
    "plt.plot(x,y3)\n",
    "plt.plot(x,y10)\n",
    "plt.xlim(0,15)\n",
    "plt.ylim(-2,2)\n",
    "```"
   ]
  },
  {
   "cell_type": "code",
   "execution_count": null,
   "id": "4ccc2128",
   "metadata": {},
   "outputs": [],
   "source": []
  },
  {
   "cell_type": "markdown",
   "id": "97ed8202",
   "metadata": {},
   "source": [
    "You should get a plot with multiple sine waves overlaid with three different frequencies clearly visible such as in the image below. \n",
    "\n",
    "<img src=\"FFT_tutorial_files/sine_wave_output.png\" align=\"left\" />"
   ]
  },
  {
   "cell_type": "markdown",
   "id": "592d29b3",
   "metadata": {},
   "source": [
    "### Functions with multiple frequencies\n",
    "\n",
    "Let's now see what happens if we combine sine wave functions into a single function. "
   ]
  },
  {
   "cell_type": "markdown",
   "id": "b43285b1",
   "metadata": {},
   "source": [
    "In a cell below, define a new function that combines the three sine waves above with different amounts, a, b, and c:\n",
    "```Python\n",
    "y_sum1=a*y1+b*y3+c*y10\n",
    "```\n",
    "Remember, though, you must define each variable a, b, and c first or the code will throw an error. Initially, set a=0.8, b=0.1, c=0.4"
   ]
  },
  {
   "cell_type": "code",
   "execution_count": null,
   "id": "771c2513",
   "metadata": {},
   "outputs": [],
   "source": []
  },
  {
   "cell_type": "markdown",
   "id": "e2874858",
   "metadata": {},
   "source": [
    "Now plot y_sum in the cell below. Use the same x and y limits as the plot above."
   ]
  },
  {
   "cell_type": "code",
   "execution_count": null,
   "id": "4ec61ad0",
   "metadata": {},
   "outputs": [],
   "source": []
  },
  {
   "cell_type": "markdown",
   "id": "3f062793",
   "metadata": {},
   "source": [
    "You should see what looks like high frequency oscillation on top of a lower frequency oscillation."
   ]
  },
  {
   "cell_type": "markdown",
   "id": "e969779d",
   "metadata": {},
   "source": [
    "Let's now look at an interactive widget. First, we need to import ```ipywidgets```. In the cell below, type\n",
    "```Python\n",
    "from ipywidgets import interactive\n",
    "```\n",
    "Then, in the same cell, we need to define a function that will take different values of the coefficients for each sine wave and construct a sum function.\n",
    "```Python\n",
    "def sum_sine(a=0.8,b=0.1,c=0.4):\n",
    "    x=np.arange(10000)*0.01\n",
    "    y1=np.sin(1*x)\n",
    "    y3=np.sin(3*x)\n",
    "    y10=np.sin(10*x)\n",
    "    sum1=a*y1+b*y2+c*y3\n",
    "    \n",
    "    plt.plot(x,sum1)\n",
    "    plt.xlim(0,15)\n",
    "    plt.ylim(-2,2)\n",
    "```"
   ]
  },
  {
   "cell_type": "code",
   "execution_count": 11,
   "id": "370a4aec",
   "metadata": {},
   "outputs": [],
   "source": []
  },
  {
   "cell_type": "markdown",
   "id": "501119cb",
   "metadata": {},
   "source": [
    "Next, we need to call the function using ```interactive()```. Type the following code block in the cell below.\n",
    "```Python\n",
    "w=interactive(sum_sine,a=(0.0,1.0),b=(0.0,1.0),c=(0.0,1.0))\n",
    "w\n",
    "```\n",
    "That ```w``` on the second line is no typo. It tells the notebook to actually run and display the above interactive function. You should see a plot with slides appear. You can now play around with the slides to change the relative contribution of each sine wave to the summed function. If you zero out all but one coeffcient you get a single sine wave."
   ]
  },
  {
   "cell_type": "code",
   "execution_count": null,
   "id": "808eeb81",
   "metadata": {
    "scrolled": false
   },
   "outputs": [],
   "source": []
  },
  {
   "cell_type": "markdown",
   "id": "38461181",
   "metadata": {},
   "source": [
    "Finally, let's get to using FFTs. From ``` bmplib``` we are going to use the function ```spectrum_wwind()```\n",
    "To call the function we need to give in an number of storage arrays. We'll use the first sine wave function, ```y1``` defined above.\n",
    "```Python\n",
    "freq, freq2, comp, pwr, mag, phase2, cos_phase, dt = bmplib.spectral.spectral_functions.spectrum_wwind(y1,x)\n",
    "```"
   ]
  },
  {
   "cell_type": "code",
   "execution_count": 19,
   "id": "3e82ad43",
   "metadata": {},
   "outputs": [],
   "source": []
  },
  {
   "cell_type": "markdown",
   "id": "87c47e9e",
   "metadata": {},
   "source": [
    "Now, let's plot the power spectrum that we just computed. Type in this code block in a cell below:\n",
    "```Python\n",
    "plt.loglog(freq,pwr)\n",
    "```"
   ]
  },
  {
   "cell_type": "code",
   "execution_count": null,
   "id": "38ef9821",
   "metadata": {},
   "outputs": [],
   "source": []
  },
  {
   "cell_type": "markdown",
   "id": "4a0b053b",
   "metadata": {},
   "source": [
    "You should see a curve with a clear spike at a certain point. On the log scale it can be difficult to tell where this point sits. In the cell below, plot again, but this time replace ```loglog()``` with ```semilogy```. This will plot the y-axis logarthmically, but the x-axis linearly."
   ]
  },
  {
   "cell_type": "code",
   "execution_count": null,
   "id": "f62471f1",
   "metadata": {},
   "outputs": [],
   "source": []
  },
  {
   "cell_type": "markdown",
   "id": "738d9dfd",
   "metadata": {},
   "source": [
    "Well, that might not have helped. Add an xlim call in the cell above so you can zoom into the region where the curve spikes."
   ]
  },
  {
   "cell_type": "markdown",
   "id": "9b70f2fd",
   "metadata": {},
   "source": [
    "If you did it properly, you should see that the curve appears to spike around 0.15 to 0.16. Does this make sense? If not, try calculating the inverse of $2 \\pi$ in a cell below."
   ]
  },
  {
   "cell_type": "code",
   "execution_count": null,
   "id": "4f5ef887",
   "metadata": {},
   "outputs": [],
   "source": []
  },
  {
   "cell_type": "code",
   "execution_count": null,
   "id": "6165c83c",
   "metadata": {},
   "outputs": [],
   "source": []
  },
  {
   "cell_type": "code",
   "execution_count": null,
   "id": "3b67516f",
   "metadata": {},
   "outputs": [],
   "source": []
  },
  {
   "cell_type": "code",
   "execution_count": null,
   "id": "ff6a0aba",
   "metadata": {},
   "outputs": [],
   "source": []
  }
 ],
 "metadata": {
  "kernelspec": {
   "display_name": "Python 3",
   "language": "python",
   "name": "python3"
  },
  "language_info": {
   "codemirror_mode": {
    "name": "ipython",
    "version": 3
   },
   "file_extension": ".py",
   "mimetype": "text/x-python",
   "name": "python",
   "nbconvert_exporter": "python",
   "pygments_lexer": "ipython3",
   "version": "3.7.3"
  }
 },
 "nbformat": 4,
 "nbformat_minor": 5
}
